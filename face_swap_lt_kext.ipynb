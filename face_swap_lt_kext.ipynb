{
  "cells": [
    {
      "cell_type": "code",
      "execution_count": null,
      "metadata": {
        "cellView": "form",
        "id": "QTpKBjPkbb61"
      },
      "outputs": [],
      "source": [
        "#@title 1. Замена лица на видео\n",
        "from google.colab import drive\n",
        "import os\n",
        "\n",
        "#@markdown   Использовать гугл диск:\n",
        "use_gdrive = False #@param {type:\"boolean\"}\n",
        "#@markdown   Укажите путь до файла изображения с новым лицом:\n",
        "use_this_face = \"\" #@param {type:\"string\"}\n",
        "#@markdown   Укажите путь до файла с видео или фото, на котором будем делать замену:\n",
        "replace_this_face = \"\" #@param {type:\"string\"}\n",
        "#@markdown   Сохранить папку с изображениями раскадровки:\n",
        "keep_frames_directory = False #@param {type:\"boolean\"}\n",
        "#@markdown   Поменять лица у всех на видео\n",
        "all_faces = False #@param {type:\"boolean\"}\n",
        "\n",
        "_kf_dir = \"\"\n",
        "_all_faces = \"\"\n",
        "_face = f'-f {use_this_face}'\n",
        "_target = f'-t {replace_this_face}'\n",
        "\n",
        "if use_gdrive:\n",
        "    drive.mount('/content/drive')\n",
        "\n",
        "if keep_frames_directory:\n",
        "    _kf_dir = \"--keep-frames\"\n",
        "else:\n",
        "    _kf_dir = \"\"\n",
        "\n",
        "if all_faces:\n",
        "    _all_faces = \"--all-faces\"\n",
        "else:\n",
        "    _all_faces = \"\"\n",
        "\n",
        "if not os.path.exists('/content/roop/run.py'):\n",
        "    %cd /content\n",
        "\n",
        "    if os.path.exists('/content/roop'):\n",
        "        !mv /content/roop /content/roop-temp\n",
        "\n",
        "    !git clone https://github.com/s0md3v/roop\n",
        "\n",
        "    if os.path.exists('/content/roop-temp'):\n",
        "        !cp -rf /content/roop-temp/* -t /content/roop && rm -r /content/roop-temp\n",
        "    \n",
        "    %cd /content/roop\n",
        "    !pip install -q -r requirements.txt\n",
        "    !pip uninstall onnxruntime onnxruntime-gpu\n",
        "    !pip install torch torchvision torchaudio --force-reinstall --index-url https://download.pytorch.org/whl/cu118\n",
        "    !pip install onnxruntime-gpu\n",
        "\n",
        "    if not os.path.exists('/content/roop/inswapper_128.onnx'):\n",
        "        !wget -O /content/roop/inswapper_128.onnx 'https://civitai.com/api/download/models/85159?type=Model&format=Other&size=full&fp=fp32'\n",
        "if not use_this_face == \"\" and not replace_this_face == \"\":\n",
        "    %cd /content/roop\n",
        "    !python3 run.py $_face $_target $_kf_dir $_all_faces --gpu-vendor nvidia\n",
        "else:\n",
        "    print('Поля use_this_face и replace_this_face обязательны!')"
      ]
    }
  ],
  "metadata": {
    "accelerator": "GPU",
    "colab": {
      "gpuType": "T4",
      "provenance": []
    },
    "kernelspec": {
      "display_name": "Python 3",
      "name": "python3"
    },
    "language_info": {
      "name": "python"
    }
  },
  "nbformat": 4,
  "nbformat_minor": 0
}
