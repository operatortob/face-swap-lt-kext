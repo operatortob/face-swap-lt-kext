{
  "cells": [
    {
      "cell_type": "code",
      "execution_count": null,
      "metadata": {
        "cellView": "form",
        "id": "QTpKBjPkbb61"
      },
      "outputs": [],
      "source": [
        "#@title 1. Замена лица на видео\n",
        "#@markdown   Использовать гугл диск:\n",
        "use_gdrive = True #@param {type:\"boolean\"}\n",
        "#@markdown   Укажите путь до файла изображения с новым лицом:\n",
        "use_this_face = \"\" #@param {type:\"string\"}\n",
        "#@markdown   Укажите путь до файла с видео:\n",
        "replace_this_face = \"\" #@param {type:\"string\"}\n",
        "#@markdown   Сохранить папку с изображениями раскадровки:\n",
        "keep_frames_directory = False #@param {type:\"boolean\"}\n",
        "#@markdown   Поменять лица у всех на видео\n",
        "all_faces = False #@param {type:\"boolean\"}\n",
        "#@markdown   <br> Если вы используете гугл диск, то готовое видео будет сохранено на гугл диске в папке roop/swaped_output.mp4\n",
        "\n",
        "_kf_dir = \"\"\n",
        "_output = \"\"\n",
        "_all_faces = \"\"\n",
        "\n",
        "from google.colab import drive\n",
        "import os\n",
        "\n",
        "if keep_frames_directory:\n",
        "    _kf_dir = \"--keep-frames\"\n",
        "else:\n",
        "    _kf_dir = \"\"\n",
        "\n",
        "if all_faces:\n",
        "    _all_faces = \"--all-faces\"\n",
        "else:\n",
        "    _all_faces = \"\"\n",
        "\n",
        "if use_gdrive:\n",
        "    drive.mount('/content/drive')\n",
        "    if not os.path.exists('/content/drive/MyDrive/roop'):\n",
        "        !mkdir -p /content/drive/MyDrive/roop\n",
        "    _output = \"-o /content/drive/MyDrive/roop/swaped_output.mp4\"\n",
        "else:\n",
        "    _output = \"\"\n",
        "\n",
        "!git clone https://github.com/s0md3v/roop\n",
        "%cd /content/roop\n",
        "!pip install -r requirements.txt\n",
        "\n",
        "if not os.path.exists('/content/roop/inswapper_128.onnx'):\n",
        "    !wget -O /content/roop/inswapper_128.onnx 'https://civitai.com/api/download/models/85159?type=Model&format=Other&size=full&fp=fp32'\n",
        "\n",
        "%cd /content/roop\n",
        "!python run.py -f $use_this_face -t $replace_this_face $_output --gpu $_kf_dir $_all_faces"
      ]
    }
  ],
  "metadata": {
    "accelerator": "GPU",
    "colab": {
      "gpuType": "T4",
      "provenance": []
    },
    "kernelspec": {
      "display_name": "Python 3",
      "name": "python3"
    },
    "language_info": {
      "name": "python"
    }
  },
  "nbformat": 4,
  "nbformat_minor": 0
}
